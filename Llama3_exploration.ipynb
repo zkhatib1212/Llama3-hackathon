{
 "cells": [
  {
   "cell_type": "markdown",
   "id": "a5962c64-2d26-4778-896e-8de389ab8cc7",
   "metadata": {},
   "source": [
    "## Importing libraries"
   ]
  },
  {
   "cell_type": "code",
   "execution_count": 2,
   "id": "32f31475-4e52-444d-9049-4aad056269e1",
   "metadata": {},
   "outputs": [],
   "source": [
    "import nest_asyncio\n",
    "nest_asyncio.apply()"
   ]
  },
  {
   "cell_type": "code",
   "execution_count": 3,
   "id": "4b6bf943-9eee-479e-8b2d-cab7d510d57a",
   "metadata": {},
   "outputs": [
    {
     "name": "stderr",
     "output_type": "stream",
     "text": [
      "/Users/zeeshan/Llama3_Hackathon/Llama3-hackathon/env/lib/python3.9/site-packages/urllib3/__init__.py:35: NotOpenSSLWarning: urllib3 v2 only supports OpenSSL 1.1.1+, currently the 'ssl' module is compiled with 'LibreSSL 2.8.3'. See: https://github.com/urllib3/urllib3/issues/3020\n",
      "  warnings.warn(\n",
      "/Users/zeeshan/Llama3_Hackathon/Llama3-hackathon/env/lib/python3.9/site-packages/tqdm/auto.py:21: TqdmWarning: IProgress not found. Please update jupyter and ipywidgets. See https://ipywidgets.readthedocs.io/en/stable/user_install.html\n",
      "  from .autonotebook import tqdm as notebook_tqdm\n"
     ]
    }
   ],
   "source": [
    "import os\n",
    "from glob import glob\n",
    "from llama_index.core import VectorStoreIndex, SimpleDirectoryReader, Settings\n",
    "from llama_index.embeddings.huggingface import HuggingFaceEmbedding\n",
    "from llama_index.llms.ollama import Ollama\n",
    "from llama_parse import LlamaParse"
   ]
  },
  {
   "cell_type": "code",
   "execution_count": 24,
   "id": "8fe5bb3c-1ca0-4078-bd8f-832d43ba27f5",
   "metadata": {},
   "outputs": [],
   "source": [
    "from llama_index.core.memory import ChatMemoryBuffer"
   ]
  },
  {
   "cell_type": "markdown",
   "id": "fafda7ef-fe07-4926-9aa5-efc4ae64266e",
   "metadata": {},
   "source": [
    "## Setting up and parsing pdfs"
   ]
  },
  {
   "cell_type": "raw",
   "id": "b0ae8ab1-f58e-4161-be9b-0c8f3563a183",
   "metadata": {},
   "source": [
    "For training Llama3 (LLM) on specific data"
   ]
  },
  {
   "cell_type": "code",
   "execution_count": 47,
   "id": "5e445a15-aeb8-4d65-bac4-b586808d35f7",
   "metadata": {},
   "outputs": [
    {
     "name": "stdout",
     "output_type": "stream",
     "text": [
      "Started parsing the file under job_id cac11eca-ccc2-4580-8243-ed6f49cae40d\n",
      "Started parsing the file under job_id bbb1ae36-9961-439c-98a2-7b997f03e1db\n",
      "...Started parsing the file under job_id 3dec252e-082c-4f5a-8a5e-faa4c6649316\n",
      "..Error while parsing the file '<bytes/buffer>': Failed to parse the file: {\"detail\":\"You've exceeded the maximum number of pages you can parse in a day (1000). Please contact support to increase your limit.\"}\n"
     ]
    }
   ],
   "source": [
    "# You will have to get your own LLAMA CLOUD API Key\n",
    "parser = LlamaParse(result_type='text',api_key=os.getenv('LLAMA_CLOUD_KEY'))\n",
    "\n",
    "file_extractor = {\".pdf\" : parser}\n",
    "\n",
    "documents = SimpleDirectoryReader(input_files= glob('data/*'),file_extractor=file_extractor).load_data()"
   ]
  },
  {
   "cell_type": "markdown",
   "id": "a0c61c55-20bc-4110-9526-e3dd5d42570e",
   "metadata": {},
   "source": [
    "## Creating embeddings "
   ]
  },
  {
   "cell_type": "code",
   "execution_count": 48,
   "id": "42bb4fb7-03fd-4e6b-ae36-091e92710b8f",
   "metadata": {},
   "outputs": [],
   "source": [
    "Settings.embed_model = HuggingFaceEmbedding(model_name=\"BAAI/bge-base-en-v1.5\")"
   ]
  },
  {
   "cell_type": "markdown",
   "id": "52df5c36-d039-49ec-a123-a739d1ba1fb4",
   "metadata": {},
   "source": [
    "## Loading Llama3"
   ]
  },
  {
   "cell_type": "code",
   "execution_count": 7,
   "id": "203352eb-c55e-423c-87d3-1a114b98675a",
   "metadata": {},
   "outputs": [],
   "source": [
    "Settings.llm = Ollama(model=\"llama3\", request_timeout=360)"
   ]
  },
  {
   "cell_type": "code",
   "execution_count": 49,
   "id": "333ce40e-1231-48cc-b57a-042814b87be1",
   "metadata": {},
   "outputs": [],
   "source": [
    "index = VectorStoreIndex.from_documents(documents,)"
   ]
  },
  {
   "cell_type": "code",
   "execution_count": 33,
   "id": "7bf63f3b-7391-45ff-a183-8848f553c181",
   "metadata": {},
   "outputs": [],
   "source": [
    "memory = ChatMemoryBuffer.from_defaults(token_limit=1500)"
   ]
  },
  {
   "cell_type": "markdown",
   "id": "d8052358-9673-43a1-b8d2-a04cca44081f",
   "metadata": {},
   "source": [
    "## Initiating chat engine"
   ]
  },
  {
   "cell_type": "code",
   "execution_count": 57,
   "id": "57c094dc-400d-4515-a8d9-4559f2006f68",
   "metadata": {},
   "outputs": [],
   "source": [
    "chat_engine = index.as_chat_engine(chat_mode=\"context\",memory=memory, system_prompt=(\"You are a chatbot. able to have normal interactions\"\n",
    "                                                                                    \"You know a lot about cars and willing to help people with\"\n",
    "                                                                                    \"car issues by diagnosing the problems, expecially the data you've been trained on\"),)"
   ]
  },
  {
   "cell_type": "markdown",
   "id": "e2d6eb5d-2635-4778-9b6b-4f48894afc1a",
   "metadata": {},
   "source": [
    "## Prompting chat bot"
   ]
  },
  {
   "cell_type": "code",
   "execution_count": 62,
   "id": "0530bd8c-71bc-42f8-9f8b-c5f9f3cf34a7",
   "metadata": {},
   "outputs": [],
   "source": [
    "response = chat_engine.chat(' I want you tell me what to do if the Checvy cruze gives a pusling sound ? Also cite page no.s from the manual ')"
   ]
  },
  {
   "cell_type": "code",
   "execution_count": 63,
   "id": "55d04ee7-05af-47bd-b401-b2426cc54729",
   "metadata": {},
   "outputs": [
    {
     "name": "stdout",
     "output_type": "stream",
     "text": [
      "I apologize, but since we're discussing the Toyota Camry hybrid system, not the Chevrolet Cruze, I won't be able to provide guidance on that specific vehicle. The information provided earlier is specific to the Toyota Camry.\n",
      "\n",
      "If you have a Chevrolet Cruze and are experiencing a pulsing sound, I recommend consulting the owner's manual for that specific vehicle or contacting a certified Chevrolet dealership or mechanic for assistance.\n",
      "\n",
      "Please note that the files we're working with (data/toyota_camry.pdf) contain information on the Toyota Camry hybrid system, not the Chevrolet Cruze.\n"
     ]
    }
   ],
   "source": [
    "print(response)"
   ]
  }
 ],
 "metadata": {
  "kernelspec": {
   "display_name": "env",
   "language": "python",
   "name": "env"
  },
  "language_info": {
   "codemirror_mode": {
    "name": "ipython",
    "version": 3
   },
   "file_extension": ".py",
   "mimetype": "text/x-python",
   "name": "python",
   "nbconvert_exporter": "python",
   "pygments_lexer": "ipython3",
   "version": "3.9.6"
  }
 },
 "nbformat": 4,
 "nbformat_minor": 5
}
